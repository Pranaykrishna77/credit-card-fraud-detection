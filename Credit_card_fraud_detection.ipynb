{
  "nbformat": 4,
  "nbformat_minor": 0,
  "metadata": {
    "colab": {
      "provenance": []
    },
    "kernelspec": {
      "name": "python3",
      "display_name": "Python 3"
    },
    "language_info": {
      "name": "python"
    }
  },
  "cells": [
    {
      "cell_type": "code",
      "execution_count": null,
      "metadata": {
        "id": "80ct33EpN3PL"
      },
      "outputs": [],
      "source": [
        "import pandas as pd\n",
        "import numpy as np\n",
        "import matplotlib.pyplot as plt\n",
        "from sklearn.ensemble import RandomForestClassifier\n",
        "from sklearn.model_selection import train_test_split\n",
        "from sklearn.linear_model import LogisticRegression\n",
        "from sklearn.preprocessing import StandardScaler\n",
        "from sklearn.svm import SVC\n",
        "from sklearn.calibration import CalibratedClassifierCV\n"
      ]
    },
    {
      "cell_type": "code",
      "source": [
        "data = pd.read_csv(\"/content/card_transdata.csv\")"
      ],
      "metadata": {
        "id": "vuY3CZZqOnhT"
      },
      "execution_count": null,
      "outputs": []
    },
    {
      "cell_type": "code",
      "source": [
        "data.head()"
      ],
      "metadata": {
        "id": "ODxD0JyeO0Vl"
      },
      "execution_count": null,
      "outputs": []
    },
    {
      "cell_type": "code",
      "source": [
        "data.info()"
      ],
      "metadata": {
        "id": "3Xzu1Q5vO3c4"
      },
      "execution_count": null,
      "outputs": []
    },
    {
      "cell_type": "code",
      "source": [
        "data.shape\n"
      ],
      "metadata": {
        "id": "1gy5S3pIPD52"
      },
      "execution_count": null,
      "outputs": []
    },
    {
      "cell_type": "code",
      "source": [
        "data.describe()"
      ],
      "metadata": {
        "id": "OgO90TVZPKQm"
      },
      "execution_count": null,
      "outputs": []
    },
    {
      "cell_type": "code",
      "source": [
        "data.dtypes"
      ],
      "metadata": {
        "id": "0J3CUTqiPSNd"
      },
      "execution_count": null,
      "outputs": []
    },
    {
      "cell_type": "markdown",
      "source": [
        "Cleaning Dataset(Missing values and Duplicates)"
      ],
      "metadata": {
        "id": "iMVU3-c_rrFn"
      }
    },
    {
      "cell_type": "code",
      "source": [
        "\n",
        "missing_values = data.isnull().any(axis=1)\n",
        "print(\"Rows with Missing Values:\")\n",
        "print(missing_values)"
      ],
      "metadata": {
        "id": "iMzdowL1P2Eo"
      },
      "execution_count": null,
      "outputs": []
    },
    {
      "cell_type": "code",
      "source": [
        "duplicate_rows = data[data.duplicated()]\n",
        "print(\"Deuplicated Rows:\")\n",
        "print(duplicate_rows)"
      ],
      "metadata": {
        "id": "gxMgxdlXP0te"
      },
      "execution_count": null,
      "outputs": []
    },
    {
      "cell_type": "markdown",
      "source": [
        "To remove Missing Values"
      ],
      "metadata": {
        "id": "EUvMaZeGRT5S"
      }
    },
    {
      "cell_type": "code",
      "source": [
        "data.dropna(axis=0, inplace=True)"
      ],
      "metadata": {
        "id": "giXbFt0HP6bF"
      },
      "execution_count": null,
      "outputs": []
    },
    {
      "cell_type": "markdown",
      "source": [
        "To remove Duplicate Values"
      ],
      "metadata": {
        "id": "doH3MLEmRYK2"
      }
    },
    {
      "cell_type": "code",
      "source": [
        "data.drop_duplicates(inplace=True)"
      ],
      "metadata": {
        "id": "BRshGRn6P9Rz"
      },
      "execution_count": null,
      "outputs": []
    },
    {
      "cell_type": "markdown",
      "source": [
        "Evaluating Security of Chip and Pin Transactions\n"
      ],
      "metadata": {
        "id": "DTvS1eYirz32"
      }
    },
    {
      "cell_type": "code",
      "source": [
        "chippindf = data[[\"used_chip\",\"used_pin_number\",\"fraud\"]]"
      ],
      "metadata": {
        "id": "tGmq12-9Sspd"
      },
      "execution_count": null,
      "outputs": []
    },
    {
      "cell_type": "code",
      "source": [
        "total_transactions = len(chippindf)\n",
        "total_fraud = chippindf[\"fraud\"].sum()\n",
        "fraud_by_chip = chippindf[chippindf[\"used_chip\"]==1][\"fraud\"].sum()\n",
        "fraud_by_pin = chippindf[chippindf[\"used_pin_number\"]==1][\"fraud\"].sum()\n"
      ],
      "metadata": {
        "id": "RD5UyHg0SvGF"
      },
      "execution_count": null,
      "outputs": []
    },
    {
      "cell_type": "code",
      "source": [
        "print(\"Total transactions:\", total_transactions)\n",
        "print(\"Total fraud cases:\", total_fraud)\n",
        "print(\"Fraud cases using chip: {} out of {}\".format(fraud_by_chip,total_transactions))\n",
        "print(\"Fraud cases using pin: {} out of {}\".format(fraud_by_pin,total_transactions))"
      ],
      "metadata": {
        "id": "wUbylxLSSv6n"
      },
      "execution_count": null,
      "outputs": []
    },
    {
      "cell_type": "code",
      "source": [
        "labels_chip = [\"Non-Fraud\",\"Fraud\"]\n",
        "sizes_chip = [total_transactions - fraud_by_chip,fraud_by_chip]\n",
        "colors_chip = [\"lightskyblue\", \"lightcoral\"]\n",
        "labels_pin = [\"Non-Fraud\",\"Fraud\"]\n",
        "sizes_pin = [total_transactions - fraud_by_pin,fraud_by_pin]\n",
        "colors_pin = [\"lightskyblue\", \"lightcoral\"]\n",
        "plt.figure(figsize=(12,6))\n",
        "plt.subplot(1,2,1)\n",
        "plt.pie(sizes_chip,labels=labels_chip, colors=colors_chip, startangle=140)\n",
        "plt.axis(\"equal\")\n",
        "plt.title(\"Chip Transactions\")\n",
        "plt.subplot(1,2,2)\n",
        "plt.pie(sizes_pin,labels=labels_pin, colors=colors_pin, startangle=140)\n",
        "plt.axis(\"equal\")\n",
        "plt.title(\"Pin Transactions\")\n",
        "plt.suptitle(\"Fraud cases in Chip and pin transaction\")\n",
        "plt.show"
      ],
      "metadata": {
        "id": "nY4aNTfYSy2P"
      },
      "execution_count": null,
      "outputs": []
    },
    {
      "cell_type": "markdown",
      "source": [
        "Finding Correlation Between Transaction Amount & Fraud"
      ],
      "metadata": {
        "id": "w2oIngt7WuJL"
      }
    },
    {
      "cell_type": "code",
      "source": [
        "correlation_df = data[[\"ratio_to_median_purchase_price\",\"fraud\"]]"
      ],
      "metadata": {
        "id": "iUnx32MnWvfK"
      },
      "execution_count": null,
      "outputs": []
    },
    {
      "cell_type": "code",
      "source": [
        "correlation = correlation_df[\"ratio_to_median_purchase_price\"].corr(correlation_df[\"fraud\"])\n",
        "print(f\"Correlation between transaction amount and fraud:{correlation}\")\n"
      ],
      "metadata": {
        "id": "GsCgyyQOZAeS"
      },
      "execution_count": null,
      "outputs": []
    },
    {
      "cell_type": "code",
      "source": [
        "avgnonfraudtransaction = correlation_df[correlation_df[\"fraud\"]==0][\"ratio_to_median_purchase_price\"].mean()\n",
        "avgfraudtransaction = correlation_df[correlation_df[\"fraud\"]==1][\"ratio_to_median_purchase_price\"].mean()\n",
        "print(f\"Average ratio to median purchase price for non frudelent transactions: {avgnonfraudtransaction}\")\n",
        "print(f\"Average ratio to median purchase price for frudelent transactions: {avgfraudtransaction}\")"
      ],
      "metadata": {
        "id": "gsA1XLbgZCx6"
      },
      "execution_count": null,
      "outputs": []
    },
    {
      "cell_type": "code",
      "source": [
        "categories = [\"Non-fraudulent\",\"Fraudulent\"]\n",
        "average_ratio = [avgnonfraudtransaction,avgfraudtransaction]\n",
        "plt.bar(categories,average_ratio,color=['blue','red'])\n",
        "plt.title(\"Ratio to Median Purchase Price\")\n",
        "plt.xlabel(\"Fraud Category\")\n",
        "plt.ylabel(\"Average ratio to median purchase price\")\n",
        "plt.show()"
      ],
      "metadata": {
        "id": "CQHbp9OFZGnt"
      },
      "execution_count": null,
      "outputs": []
    },
    {
      "cell_type": "markdown",
      "source": [
        " Analyzing Fraud Cases in Online Transaction\n"
      ],
      "metadata": {
        "id": "LX4IsjGsZQ2U"
      }
    },
    {
      "cell_type": "code",
      "source": [
        "online_order_df = data[[\"online_order\",\"fraud\"]]"
      ],
      "metadata": {
        "id": "PTNoMZNxZR7G"
      },
      "execution_count": null,
      "outputs": []
    },
    {
      "cell_type": "code",
      "source": [
        "total_online_orders = online_order_df[\"online_order\"].sum()\n",
        "total_online_fraud = online_order_df[(online_order_df[\"fraud\"]==1)&(online_order_df[\"online_order\"]==1)][\"fraud\"].count()\n",
        "fraud_rate_online = total_online_fraud/total_online_orders\n",
        "total_offline_orders = len(online_order_df) - total_online_orders\n",
        "total_offline_fraud = online_order_df[(online_order_df[\"fraud\"]==1)&(online_order_df[\"online_order\"]==0)][\"fraud\"].count()\n",
        "fraud_rate_offline = total_offline_fraud/total_offline_orders\n",
        "print(f\"Fraud rate for online transactions: {fraud_rate_online:.2%} ({total_online_fraud} cases out of {total_online_orders} online transactions)\")\n",
        "print(f\"Fraud rate for offline transactions: {fraud_rate_offline:.2%} ({total_offline_fraud} cases out of {total_offline_orders} offline transactions)\")"
      ],
      "metadata": {
        "id": "KdW8NkU1ZmJF"
      },
      "execution_count": null,
      "outputs": []
    },
    {
      "cell_type": "markdown",
      "source": [
        " Feature Selection with Random Forest"
      ],
      "metadata": {
        "id": "H1Kt_6xZZxpT"
      }
    },
    {
      "cell_type": "code",
      "source": [
        "X = data.drop(\"fraud\",axis=1)\n",
        "y = data[\"fraud\"]"
      ],
      "metadata": {
        "id": "0TsQyV-YZyhS"
      },
      "execution_count": null,
      "outputs": []
    },
    {
      "cell_type": "code",
      "source": [
        "X_train, X_test, y_train, y_test = train_test_split(X,y, test_size=0.2, random_state=42)\n",
        "nan_indices = y_train[y_train.isna()].index\n",
        "# Drop these rows from both X_train and y_train\n",
        "X_train = X_train.drop(nan_indices)\n",
        "y_train = y_train.drop(nan_indices)\n",
        "rf_classifier = RandomForestClassifier(random_state=42)\n",
        "rf_classifier.fit(X_train,y_train)\n",
        "feature_importances = pd.Series(rf_classifier.feature_importances_, index=X.columns).sort_values(ascending=False)\n",
        "print(\"Ranked Feature Importance:\")\n",
        "print(feature_importances)"
      ],
      "metadata": {
        "id": "FdTtzE4EZ2Za"
      },
      "execution_count": null,
      "outputs": []
    },
    {
      "cell_type": "markdown",
      "source": [
        " Building Credit Card Fraud Detection Model with Random Forest"
      ],
      "metadata": {
        "id": "RWh8CPakapq1"
      }
    },
    {
      "cell_type": "code",
      "source": [
        "new_transaction_features = data.sample(1).drop('fraud',axis=1)\n",
        "print(\"\\nRandomly sampled features for new transaction:\")\n",
        "print(new_transaction_features)\n",
        "prediction = rf_classifier.predict(new_transaction_features)\n",
        "print(\"\\nPrediction for new transaction:\")\n",
        "print(\"Fraud\" if prediction[0] == 1 else \"Legitimate\")"
      ],
      "metadata": {
        "id": "w7KjTfObatPu"
      },
      "execution_count": null,
      "outputs": []
    },
    {
      "cell_type": "code",
      "source": [
        "new_transaction_features1 = pd.DataFrame({\n",
        "    'distance_from_home': [7],\n",
        "    'distance_from_last_transaction': [3],\n",
        "    'ratio_to_median_purchase_price': [0.1],\n",
        "    'repeat_retailer': [0],\n",
        "    'used_chip': [1],\n",
        "    'used_pin_number': [0],\n",
        "    'online_order': [0]\n",
        "})\n",
        "prediction = rf_classifier.predict(new_transaction_features1)\n",
        "print(\"Prediction for new transaction: \" + (\"Fraud\" if prediction[0] == 1 else \"Legitimate\"))"
      ],
      "metadata": {
        "id": "azBtS8Uva6ZL"
      },
      "execution_count": null,
      "outputs": []
    },
    {
      "cell_type": "markdown",
      "source": [
        " Building Credit Card Fraud Detection Model with Logistic Regression"
      ],
      "metadata": {
        "id": "49Q_n4I7bg7N"
      }
    },
    {
      "cell_type": "code",
      "source": [
        "scaler = StandardScaler()\n",
        "X_train_scaled = scaler.fit_transform(X_train)\n",
        "X_test_scaled = scaler.fit_transform(X_test)\n",
        "logreg_classifier = LogisticRegression(max_iter=1000, random_state=42)\n",
        "logreg_classifier.fit(X_train_scaled,y_train)\n",
        "new_transaction_features1 = pd.DataFrame({\n",
        "    'distance_from_home': [89],\n",
        "    'distance_from_last_transaction': [15],\n",
        "    'ratio_to_median_purchase_price': [2.3],\n",
        "    'repeat_retailer': [1],\n",
        "    'used_chip': [0],\n",
        "    'used_pin_number': [1],\n",
        "    'online_order': [1]\n",
        "})\n",
        "prediction = logreg_classifier.predict(scaler.transform(new_transaction_features1))\n",
        "print(\"Prediction for new transaction: \" + (\"Fraud\" if prediction[0] == 1 else \"Legitimate\"))"
      ],
      "metadata": {
        "id": "quzIklv9bkhS"
      },
      "execution_count": null,
      "outputs": []
    },
    {
      "cell_type": "markdown",
      "source": [
        "Building Credit Card Fraud Detection Model with Support Vector Machine"
      ],
      "metadata": {
        "id": "YwnOF9gMcDRM"
      }
    },
    {
      "cell_type": "code",
      "source": [
        "scaler = StandardScaler()\n",
        "X_scaled = scaler.fit_transform(X)\n",
        "\n",
        "# Remove rows where y is NaN\n",
        "nan_indices_y = y[y.isna()].index\n",
        "if not nan_indices_y.empty:\n",
        "    X_scaled = np.delete(X_scaled, nan_indices_y, axis=0)\n",
        "    y = y.drop(nan_indices_y)"
      ],
      "metadata": {
        "id": "GJgbbaMujXkD"
      },
      "execution_count": null,
      "outputs": []
    },
    {
      "cell_type": "code",
      "source": [
        "svm_classifier = SVC(kernel=\"linear\", probability=False, random_state=42)\n",
        "svm_classifier.fit(X_scaled, y)\n",
        "\n",
        "calibrated_svm = CalibratedClassifierCV(svm_classifier, cv=\"prefit\")\n",
        "calibrated_svm.fit(X_scaled, y)\n",
        "distance_from_home = float(input(\"Enter Distance From Home: \"))\n",
        "distance_from_last_transaction = float(input(\"Enter Distance From Last Transaction: \"))\n",
        "ratio_to_median_purchase_price = float(input(\"Enter Ratio to Median Purchase Price: \"))\n",
        "repeat_retailer = int(input(\"Enter Repeat Retailer (0 or 1): \"))\n",
        "used_chip = int(input(\"Enter Used Chip (0 or 1): \"))\n",
        "used_pin_number = int(input(\"Enter Used Pin Number (0 or 1): \"))\n",
        "online_order = int(input(\"Enter Online Order (0 or 1): \"))\n",
        "\n",
        "new_transaction_features = pd.DataFrame({\n",
        "    'distance_from_home': [distance_from_home],\n",
        "    'distance_from_last_transaction': [distance_from_last_transaction],\n",
        "    'ratio_to_median_purchase_price': [ratio_to_median_purchase_price],\n",
        "    'repeat_retailer': [repeat_retailer],\n",
        "    'used_chip': [used_chip],\n",
        "    'used_pin_number': [used_pin_number],\n",
        "    'online_order': [online_order]\n",
        "})\n",
        "\n",
        "scaled_transaction = scaler.transform(new_transaction_features)\n",
        "prediction = calibrated_svm.predict(scaled_transaction)\n",
        "probability_of_fraud = calibrated_svm.predict_proba(scaled_transaction)[:,1][0]\n",
        "\n",
        "print(\"Prediction for new transaction: \" + (\"Fraud\" if prediction[0] == 1 else \"Legitimate\"))\n",
        "print(f\"Probability of fraud: {probability_of_fraud:.4f}\")\n",
        "\n"
      ],
      "metadata": {
        "id": "aMYXED-5kdiR"
      },
      "execution_count": null,
      "outputs": []
    },
    {
      "cell_type": "markdown",
      "source": [
        "Evaluating Model Performance with Precision, Recall, and F1 Score"
      ],
      "metadata": {
        "id": "WDxyI-wyh2sm"
      }
    },
    {
      "cell_type": "code",
      "source": [
        "from sklearn.metrics import precision_score, recall_score, f1_score, accuracy_score\n",
        "\n",
        "y_pred = logreg_classifier.predict(X_test_scaled)\n",
        "precision = precision_score(y_test, y_pred)\n",
        "recall = recall_score(y_test, y_pred)\n",
        "f1 = f1_score(y_test, y_pred)\n",
        "accuracy = accuracy_score(y_test, y_pred)\n",
        "\n",
        "print(\"\\nEvaluation Metrics:\")\n",
        "print(f\"Precision: {precision:.4f}\")\n",
        "print(f\"Recall: {recall:.4f}\")\n",
        "print(f\"f1 score: {f1:.4f}\")\n",
        "print(f\"accuracy: {accuracy:.4f}\")\n"
      ],
      "metadata": {
        "id": "pruQOe7hh9Jx"
      },
      "execution_count": null,
      "outputs": []
    }
  ]
}